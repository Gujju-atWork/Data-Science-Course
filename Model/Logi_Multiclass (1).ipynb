{
 "cells": [
  {
   "cell_type": "code",
   "execution_count": 1,
   "id": "ade82928-fc97-4046-9ded-b32332e59d35",
   "metadata": {},
   "outputs": [],
   "source": [
    "from sklearn.datasets import make_classification\n",
    "from sklearn.linear_model import LogisticRegression\n",
    "X,y=make_classification(n_samples=1000,n_features=10,n_informative=5,n_redundant=5,n_classes=3,random_state=42)"
   ]
  },
  {
   "cell_type": "code",
   "execution_count": 2,
   "id": "4e638116-3cb8-48cf-ad8c-e89bde6442bb",
   "metadata": {},
   "outputs": [
    {
     "data": {
      "text/plain": [
       "array([[ 2.59014356, -3.42407256,  0.26830895, ..., -0.4075564 ,\n",
       "         2.00889958,  0.91176128],\n",
       "       [-0.18964388,  1.18915349,  1.33715288, ...,  0.75174259,\n",
       "        -0.93616979, -0.0406729 ],\n",
       "       [ 2.33823479,  1.73171672, -2.9554549 , ..., -6.11310542,\n",
       "         2.56981847,  0.49067355],\n",
       "       ...,\n",
       "       [-5.0147105 ,  2.6321196 , -1.85549514, ...,  0.2517947 ,\n",
       "        -1.09326259, -2.72779634],\n",
       "       [-1.59943891,  1.68834032,  1.06411267, ...,  0.93209456,\n",
       "        -1.11081933, -1.08072112],\n",
       "       [ 2.89511603, -4.213598  ,  1.43221441, ...,  2.97446066,\n",
       "        -0.86821862,  0.73856138]])"
      ]
     },
     "execution_count": 2,
     "metadata": {},
     "output_type": "execute_result"
    }
   ],
   "source": [
    "X"
   ]
  },
  {
   "cell_type": "code",
   "execution_count": 3,
   "id": "0883723b-37e3-4ea3-b26a-6145c78eab34",
   "metadata": {},
   "outputs": [
    {
     "data": {
      "text/plain": [
       "array([0, 0, 1, 0, 0, 1, 2, 2, 0, 2, 1, 2, 1, 2, 1, 1, 0, 2, 2, 2, 1, 0,\n",
       "       0, 0, 2, 2, 1, 1, 2, 1, 0, 0, 1, 2, 0, 1, 2, 2, 2, 0, 1, 1, 1, 2,\n",
       "       2, 2, 1, 2, 0, 2, 0, 0, 0, 0, 0, 2, 1, 2, 0, 1, 2, 2, 1, 2, 1, 1,\n",
       "       2, 1, 1, 0, 1, 1, 1, 1, 1, 2, 0, 0, 0, 2, 2, 2, 2, 0, 2, 0, 1, 1,\n",
       "       2, 0, 0, 1, 0, 0, 1, 2, 1, 2, 1, 0, 1, 2, 2, 2, 1, 1, 1, 1, 1, 1,\n",
       "       0, 0, 1, 1, 1, 1, 0, 1, 1, 2, 0, 1, 0, 1, 1, 0, 2, 0, 1, 0, 2, 0,\n",
       "       2, 0, 1, 2, 2, 0, 0, 0, 1, 1, 1, 1, 0, 1, 1, 2, 2, 0, 0, 0, 1, 1,\n",
       "       0, 1, 2, 2, 0, 0, 2, 0, 0, 2, 0, 0, 0, 0, 0, 1, 1, 0, 0, 0, 2, 2,\n",
       "       0, 0, 0, 1, 1, 2, 0, 1, 0, 1, 1, 1, 2, 0, 2, 0, 0, 1, 1, 1, 0, 0,\n",
       "       1, 1, 0, 0, 0, 2, 0, 0, 0, 0, 1, 2, 0, 2, 2, 1, 1, 2, 2, 0, 1, 1,\n",
       "       0, 0, 2, 1, 0, 0, 1, 0, 0, 2, 2, 1, 2, 2, 0, 0, 1, 1, 0, 2, 0, 0,\n",
       "       0, 2, 2, 2, 0, 2, 1, 1, 0, 2, 2, 1, 1, 2, 2, 0, 2, 1, 0, 2, 1, 2,\n",
       "       1, 2, 0, 2, 0, 0, 0, 2, 0, 1, 1, 2, 1, 0, 1, 0, 2, 1, 0, 2, 0, 2,\n",
       "       0, 2, 0, 1, 2, 1, 2, 0, 1, 2, 0, 2, 0, 0, 1, 1, 0, 1, 1, 0, 2, 0,\n",
       "       2, 2, 0, 2, 2, 1, 0, 0, 1, 2, 2, 1, 1, 1, 1, 2, 2, 1, 0, 2, 0, 1,\n",
       "       0, 1, 1, 1, 0, 1, 2, 0, 0, 2, 1, 1, 0, 1, 0, 0, 0, 0, 2, 0, 2, 2,\n",
       "       2, 1, 1, 1, 2, 1, 1, 0, 1, 1, 1, 0, 1, 2, 0, 0, 2, 1, 2, 0, 1, 0,\n",
       "       0, 1, 2, 0, 1, 1, 1, 0, 1, 2, 2, 1, 1, 0, 0, 1, 2, 2, 1, 1, 1, 2,\n",
       "       1, 1, 1, 1, 0, 2, 1, 2, 0, 1, 1, 1, 0, 1, 0, 2, 0, 1, 1, 0, 2, 0,\n",
       "       2, 0, 2, 2, 0, 1, 0, 0, 0, 0, 0, 2, 1, 1, 0, 2, 2, 2, 2, 2, 2, 1,\n",
       "       2, 1, 0, 2, 2, 2, 0, 1, 2, 0, 0, 1, 2, 2, 1, 2, 0, 2, 2, 1, 0, 0,\n",
       "       1, 2, 1, 0, 2, 1, 1, 0, 0, 1, 1, 0, 2, 2, 2, 0, 1, 0, 2, 2, 2, 2,\n",
       "       0, 1, 1, 0, 2, 2, 2, 1, 2, 2, 1, 2, 0, 0, 0, 2, 0, 0, 1, 2, 2, 0,\n",
       "       1, 1, 2, 0, 1, 2, 2, 2, 0, 0, 1, 2, 2, 1, 2, 1, 2, 0, 2, 1, 0, 0,\n",
       "       2, 0, 2, 2, 0, 1, 2, 0, 2, 2, 1, 2, 0, 1, 0, 1, 0, 1, 1, 1, 2, 2,\n",
       "       0, 2, 1, 0, 1, 1, 2, 2, 2, 0, 0, 0, 2, 0, 0, 2, 2, 2, 0, 0, 1, 0,\n",
       "       0, 1, 1, 0, 1, 2, 1, 0, 1, 1, 2, 0, 1, 1, 2, 2, 0, 0, 0, 2, 2, 1,\n",
       "       2, 1, 2, 1, 2, 2, 2, 0, 1, 0, 1, 1, 2, 2, 2, 0, 1, 2, 1, 1, 1, 0,\n",
       "       0, 2, 1, 1, 0, 1, 0, 2, 0, 2, 1, 1, 0, 1, 2, 2, 2, 1, 2, 2, 0, 1,\n",
       "       1, 2, 2, 2, 0, 2, 1, 0, 2, 2, 2, 1, 2, 2, 2, 2, 1, 2, 1, 2, 2, 1,\n",
       "       2, 0, 2, 1, 1, 0, 1, 2, 1, 2, 1, 0, 1, 2, 1, 1, 0, 0, 0, 2, 0, 0,\n",
       "       2, 1, 2, 0, 2, 0, 1, 0, 2, 1, 0, 0, 2, 0, 2, 0, 1, 1, 2, 0, 1, 1,\n",
       "       1, 1, 0, 0, 1, 0, 0, 1, 0, 1, 0, 2, 1, 0, 2, 1, 1, 2, 2, 2, 0, 0,\n",
       "       0, 0, 2, 2, 1, 1, 2, 2, 0, 1, 0, 2, 0, 0, 1, 1, 0, 1, 1, 2, 2, 2,\n",
       "       2, 1, 1, 2, 2, 1, 1, 0, 0, 2, 2, 0, 0, 2, 1, 1, 0, 2, 2, 0, 2, 2,\n",
       "       1, 2, 1, 0, 0, 1, 0, 1, 1, 1, 1, 1, 2, 2, 1, 0, 0, 0, 0, 0, 0, 1,\n",
       "       2, 0, 1, 0, 0, 2, 2, 1, 1, 2, 1, 2, 0, 1, 2, 2, 1, 1, 2, 1, 1, 0,\n",
       "       2, 1, 1, 1, 0, 1, 1, 2, 2, 0, 0, 2, 2, 0, 0, 1, 1, 0, 0, 0, 1, 0,\n",
       "       0, 1, 0, 0, 2, 0, 0, 0, 1, 2, 2, 2, 2, 0, 1, 2, 2, 1, 1, 1, 2, 1,\n",
       "       1, 2, 1, 2, 2, 0, 1, 0, 0, 0, 0, 1, 0, 0, 0, 2, 2, 1, 2, 1, 2, 0,\n",
       "       2, 0, 2, 2, 1, 1, 0, 0, 2, 0, 2, 1, 2, 1, 2, 1, 0, 0, 2, 0, 2, 2,\n",
       "       2, 1, 2, 1, 1, 2, 2, 0, 1, 0, 1, 0, 0, 0, 2, 2, 1, 0, 1, 1, 1, 2,\n",
       "       0, 1, 1, 0, 1, 2, 0, 2, 0, 2, 2, 0, 2, 2, 0, 1, 1, 1, 0, 0, 0, 1,\n",
       "       1, 0, 0, 2, 2, 1, 0, 0, 0, 2, 2, 0, 1, 2, 2, 0, 1, 0, 0, 2, 0, 0,\n",
       "       0, 2, 0, 1, 2, 0, 2, 2, 1, 2, 1, 2, 1, 2, 0, 2, 1, 0, 2, 0, 2, 1,\n",
       "       2, 0, 2, 0, 1, 1, 2, 1, 2, 0])"
      ]
     },
     "execution_count": 3,
     "metadata": {},
     "output_type": "execute_result"
    }
   ],
   "source": [
    "y"
   ]
  },
  {
   "cell_type": "code",
   "execution_count": 5,
   "id": "875ed2b5-fd84-4c3e-b897-1c4bb4390271",
   "metadata": {},
   "outputs": [],
   "source": [
    "model=LogisticRegression(multi_class='multinomial',solver='lbfgs')"
   ]
  },
  {
   "cell_type": "code",
   "execution_count": 6,
   "id": "e70be116-d588-485a-ba58-de380139e5d5",
   "metadata": {},
   "outputs": [],
   "source": [
    "from sklearn.model_selection import train_test_split"
   ]
  },
  {
   "cell_type": "code",
   "execution_count": 9,
   "id": "de5682d7-b6eb-414f-b6a8-2cdf91ce041a",
   "metadata": {},
   "outputs": [],
   "source": [
    "X_train,X_test,y_train,y_test=train_test_split(X,y,test_size=0.20,random_state=42)"
   ]
  },
  {
   "cell_type": "code",
   "execution_count": 14,
   "id": "8534b9fd-4763-4eba-9f12-01f7f602c099",
   "metadata": {},
   "outputs": [
    {
     "data": {
      "text/html": [
       "<style>#sk-container-id-2 {color: black;background-color: white;}#sk-container-id-2 pre{padding: 0;}#sk-container-id-2 div.sk-toggleable {background-color: white;}#sk-container-id-2 label.sk-toggleable__label {cursor: pointer;display: block;width: 100%;margin-bottom: 0;padding: 0.3em;box-sizing: border-box;text-align: center;}#sk-container-id-2 label.sk-toggleable__label-arrow:before {content: \"▸\";float: left;margin-right: 0.25em;color: #696969;}#sk-container-id-2 label.sk-toggleable__label-arrow:hover:before {color: black;}#sk-container-id-2 div.sk-estimator:hover label.sk-toggleable__label-arrow:before {color: black;}#sk-container-id-2 div.sk-toggleable__content {max-height: 0;max-width: 0;overflow: hidden;text-align: left;background-color: #f0f8ff;}#sk-container-id-2 div.sk-toggleable__content pre {margin: 0.2em;color: black;border-radius: 0.25em;background-color: #f0f8ff;}#sk-container-id-2 input.sk-toggleable__control:checked~div.sk-toggleable__content {max-height: 200px;max-width: 100%;overflow: auto;}#sk-container-id-2 input.sk-toggleable__control:checked~label.sk-toggleable__label-arrow:before {content: \"▾\";}#sk-container-id-2 div.sk-estimator input.sk-toggleable__control:checked~label.sk-toggleable__label {background-color: #d4ebff;}#sk-container-id-2 div.sk-label input.sk-toggleable__control:checked~label.sk-toggleable__label {background-color: #d4ebff;}#sk-container-id-2 input.sk-hidden--visually {border: 0;clip: rect(1px 1px 1px 1px);clip: rect(1px, 1px, 1px, 1px);height: 1px;margin: -1px;overflow: hidden;padding: 0;position: absolute;width: 1px;}#sk-container-id-2 div.sk-estimator {font-family: monospace;background-color: #f0f8ff;border: 1px dotted black;border-radius: 0.25em;box-sizing: border-box;margin-bottom: 0.5em;}#sk-container-id-2 div.sk-estimator:hover {background-color: #d4ebff;}#sk-container-id-2 div.sk-parallel-item::after {content: \"\";width: 100%;border-bottom: 1px solid gray;flex-grow: 1;}#sk-container-id-2 div.sk-label:hover label.sk-toggleable__label {background-color: #d4ebff;}#sk-container-id-2 div.sk-serial::before {content: \"\";position: absolute;border-left: 1px solid gray;box-sizing: border-box;top: 0;bottom: 0;left: 50%;z-index: 0;}#sk-container-id-2 div.sk-serial {display: flex;flex-direction: column;align-items: center;background-color: white;padding-right: 0.2em;padding-left: 0.2em;position: relative;}#sk-container-id-2 div.sk-item {position: relative;z-index: 1;}#sk-container-id-2 div.sk-parallel {display: flex;align-items: stretch;justify-content: center;background-color: white;position: relative;}#sk-container-id-2 div.sk-item::before, #sk-container-id-2 div.sk-parallel-item::before {content: \"\";position: absolute;border-left: 1px solid gray;box-sizing: border-box;top: 0;bottom: 0;left: 50%;z-index: -1;}#sk-container-id-2 div.sk-parallel-item {display: flex;flex-direction: column;z-index: 1;position: relative;background-color: white;}#sk-container-id-2 div.sk-parallel-item:first-child::after {align-self: flex-end;width: 50%;}#sk-container-id-2 div.sk-parallel-item:last-child::after {align-self: flex-start;width: 50%;}#sk-container-id-2 div.sk-parallel-item:only-child::after {width: 0;}#sk-container-id-2 div.sk-dashed-wrapped {border: 1px dashed gray;margin: 0 0.4em 0.5em 0.4em;box-sizing: border-box;padding-bottom: 0.4em;background-color: white;}#sk-container-id-2 div.sk-label label {font-family: monospace;font-weight: bold;display: inline-block;line-height: 1.2em;}#sk-container-id-2 div.sk-label-container {text-align: center;}#sk-container-id-2 div.sk-container {/* jupyter's `normalize.less` sets `[hidden] { display: none; }` but bootstrap.min.css set `[hidden] { display: none !important; }` so we also need the `!important` here to be able to override the default hidden behavior on the sphinx rendered scikit-learn.org. See: https://github.com/scikit-learn/scikit-learn/issues/21755 */display: inline-block !important;position: relative;}#sk-container-id-2 div.sk-text-repr-fallback {display: none;}</style><div id=\"sk-container-id-2\" class=\"sk-top-container\"><div class=\"sk-text-repr-fallback\"><pre>LogisticRegression(multi_class=&#x27;multinomial&#x27;)</pre><b>In a Jupyter environment, please rerun this cell to show the HTML representation or trust the notebook. <br />On GitHub, the HTML representation is unable to render, please try loading this page with nbviewer.org.</b></div><div class=\"sk-container\" hidden><div class=\"sk-item\"><div class=\"sk-estimator sk-toggleable\"><input class=\"sk-toggleable__control sk-hidden--visually\" id=\"sk-estimator-id-2\" type=\"checkbox\" checked><label for=\"sk-estimator-id-2\" class=\"sk-toggleable__label sk-toggleable__label-arrow\">LogisticRegression</label><div class=\"sk-toggleable__content\"><pre>LogisticRegression(multi_class=&#x27;multinomial&#x27;)</pre></div></div></div></div></div>"
      ],
      "text/plain": [
       "LogisticRegression(multi_class='multinomial')"
      ]
     },
     "execution_count": 14,
     "metadata": {},
     "output_type": "execute_result"
    }
   ],
   "source": [
    "model.fit(X_train,y_train)"
   ]
  },
  {
   "cell_type": "code",
   "execution_count": 12,
   "id": "399dd5d6-8c81-4270-a57e-f50600f086c0",
   "metadata": {},
   "outputs": [],
   "source": [
    "from sklearn.metrics import confusion_matrix,accuracy_score,classification_report"
   ]
  },
  {
   "cell_type": "code",
   "execution_count": 15,
   "id": "98e9e435-9f3c-4e65-9b0f-ca10e214d2ad",
   "metadata": {},
   "outputs": [],
   "source": [
    "y_pred=model.predict(X_test)"
   ]
  },
  {
   "cell_type": "code",
   "execution_count": 16,
   "id": "6ad2a7c8-5c56-4637-94e6-721b3b72ce90",
   "metadata": {},
   "outputs": [
    {
     "data": {
      "text/plain": [
       "array([1, 0, 1, 1, 0, 0, 1, 2, 2, 2, 0, 0, 0, 0, 0, 0, 2, 2, 2, 1, 2, 2,\n",
       "       0, 0, 0, 0, 1, 2, 2, 0, 1, 0, 2, 2, 1, 1, 0, 1, 1, 0, 0, 2, 2, 2,\n",
       "       2, 0, 0, 0, 1, 1, 1, 1, 1, 1, 1, 0, 2, 1, 0, 1, 1, 0, 0, 2, 1, 2,\n",
       "       0, 0, 2, 2, 2, 0, 1, 2, 2, 1, 2, 0, 0, 0, 0, 2, 2, 1, 2, 2, 2, 1,\n",
       "       0, 1, 1, 1, 1, 1, 0, 1, 0, 2, 2, 2, 1, 0, 1, 1, 2, 1, 1, 1, 0, 1,\n",
       "       2, 0, 0, 2, 1, 2, 0, 1, 2, 1, 2, 2, 1, 0, 0, 0, 1, 2, 0, 2, 0, 0,\n",
       "       2, 1, 0, 1, 0, 1, 2, 1, 2, 2, 1, 2, 2, 0, 2, 2, 1, 1, 0, 0, 0, 2,\n",
       "       1, 0, 1, 0, 0, 1, 2, 2, 1, 0, 0, 1, 0, 0, 0, 2, 2, 0, 2, 1, 1, 0,\n",
       "       1, 1, 2, 0, 1, 1, 0, 0, 2, 2, 1, 2, 0, 1, 0, 1, 1, 1, 1, 0, 1, 1,\n",
       "       1, 1])"
      ]
     },
     "execution_count": 16,
     "metadata": {},
     "output_type": "execute_result"
    }
   ],
   "source": [
    "y_pred"
   ]
  },
  {
   "cell_type": "code",
   "execution_count": 17,
   "id": "027aca4a-2641-4765-96cc-544fd4fa5865",
   "metadata": {},
   "outputs": [
    {
     "data": {
      "text/plain": [
       "array([[52,  5, 11],\n",
       "       [ 8, 47, 17],\n",
       "       [ 8, 13, 39]])"
      ]
     },
     "execution_count": 17,
     "metadata": {},
     "output_type": "execute_result"
    }
   ],
   "source": [
    "confusion_matrix(y_pred,y_test)"
   ]
  },
  {
   "cell_type": "code",
   "execution_count": 18,
   "id": "3e7ea551-2537-41d1-bc9f-602d03a76000",
   "metadata": {},
   "outputs": [
    {
     "data": {
      "text/plain": [
       "0.69"
      ]
     },
     "execution_count": 18,
     "metadata": {},
     "output_type": "execute_result"
    }
   ],
   "source": [
    "accuracy_score(y_pred,y_test)"
   ]
  },
  {
   "cell_type": "code",
   "execution_count": 19,
   "id": "15fea9d2-ba28-4398-a196-2215f50eb8dc",
   "metadata": {},
   "outputs": [
    {
     "data": {
      "text/plain": [
       "'              precision    recall  f1-score   support\\n\\n           0       0.76      0.76      0.76        68\\n           1       0.72      0.65      0.69        72\\n           2       0.58      0.65      0.61        60\\n\\n    accuracy                           0.69       200\\n   macro avg       0.69      0.69      0.69       200\\nweighted avg       0.69      0.69      0.69       200\\n'"
      ]
     },
     "execution_count": 19,
     "metadata": {},
     "output_type": "execute_result"
    }
   ],
   "source": [
    "classification_report(y_pred,y_test)"
   ]
  },
  {
   "cell_type": "code",
   "execution_count": null,
   "id": "daa8bc8b-c771-4067-ba98-c01e2fdc7abb",
   "metadata": {},
   "outputs": [],
   "source": []
  }
 ],
 "metadata": {
  "kernelspec": {
   "display_name": "Python 3 (ipykernel)",
   "language": "python",
   "name": "python3"
  },
  "language_info": {
   "codemirror_mode": {
    "name": "ipython",
    "version": 3
   },
   "file_extension": ".py",
   "mimetype": "text/x-python",
   "name": "python",
   "nbconvert_exporter": "python",
   "pygments_lexer": "ipython3",
   "version": "3.10.8"
  }
 },
 "nbformat": 4,
 "nbformat_minor": 5
}
