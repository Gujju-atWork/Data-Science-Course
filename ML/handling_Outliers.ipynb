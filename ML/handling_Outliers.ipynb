{
 "cells": [
  {
   "cell_type": "code",
   "execution_count": 1,
   "id": "6dd94ba2-7f0c-4e68-9673-7b6439736c3b",
   "metadata": {},
   "outputs": [],
   "source": [
    "# 5 nymber summary"
   ]
  },
  {
   "cell_type": "code",
   "execution_count": 3,
   "id": "ecf0f1b1-5277-4f67-89fd-3f1fb6e50232",
   "metadata": {},
   "outputs": [
    {
     "data": {
      "text/plain": [
       "'\\n1. Minimum Value\\n2. Q1 - 25 percntile\\n3. Median\\n4. Q3 - 75 percentile\\n5. Maximum\\n'"
      ]
     },
     "execution_count": 3,
     "metadata": {},
     "output_type": "execute_result"
    }
   ],
   "source": [
    "'''\n",
    "1. Minimum Value\n",
    "2. Q1 - 25 percntile\n",
    "3. Median\n",
    "4. Q3 - 75 percentile\n",
    "5. Maximum\n",
    "'''"
   ]
  },
  {
   "cell_type": "code",
   "execution_count": 4,
   "id": "b2e6dc8f-3597-4aa9-9af4-a9fed4584e38",
   "metadata": {},
   "outputs": [],
   "source": [
    "import numpy as np"
   ]
  },
  {
   "cell_type": "code",
   "execution_count": 5,
   "id": "d26c41eb-4140-4bdd-9886-86d64e9aa49f",
   "metadata": {},
   "outputs": [],
   "source": [
    "list_marks=[1,2,3,4,5,1,2,3,4,5,6,7,5,4.5,43,89,100,93,94]"
   ]
  },
  {
   "cell_type": "code",
   "execution_count": 16,
   "id": "9eb8fb65-b4dd-4c9c-83bc-4ce8bd9cdf4d",
   "metadata": {},
   "outputs": [],
   "source": [
    "Q1=np.percentile(list_marks,[25])"
   ]
  },
  {
   "cell_type": "code",
   "execution_count": 17,
   "id": "2f5c6ebd-61ff-49a6-adda-b446f20ce168",
   "metadata": {},
   "outputs": [],
   "source": [
    "Q3=np.percentile(list_marks,[75])"
   ]
  },
  {
   "cell_type": "code",
   "execution_count": 18,
   "id": "b3d9085a-0d9b-4a2d-8508-f064e39c9280",
   "metadata": {},
   "outputs": [],
   "source": [
    "Q2=np.percentile(list_marks,[50])"
   ]
  },
  {
   "cell_type": "code",
   "execution_count": 19,
   "id": "14318f31-b7bd-4af5-b9f9-b63196dc115c",
   "metadata": {},
   "outputs": [],
   "source": [
    "max=np.percentile(list_marks,[100])"
   ]
  },
  {
   "cell_type": "code",
   "execution_count": 20,
   "id": "aa3c620f-35c8-4e87-9af8-304798085466",
   "metadata": {},
   "outputs": [],
   "source": [
    "# We will create a lower fence and higher fence"
   ]
  },
  {
   "cell_type": "code",
   "execution_count": 21,
   "id": "4f269287-16b1-4168-8459-3a06494eba36",
   "metadata": {},
   "outputs": [],
   "source": [
    "Q1=np.percentile(list_marks,[25])"
   ]
  },
  {
   "cell_type": "code",
   "execution_count": 22,
   "id": "7bf069d5-426d-4236-875d-0ad26e45c859",
   "metadata": {},
   "outputs": [
    {
     "name": "stdout",
     "output_type": "stream",
     "text": [
      "[3.]\n"
     ]
    }
   ],
   "source": [
    "print(Q1)"
   ]
  },
  {
   "cell_type": "code",
   "execution_count": 23,
   "id": "2473fbb5-fc0d-43b3-a123-182071bfbbf5",
   "metadata": {},
   "outputs": [],
   "source": [
    "# np.quantie give min,Q1,Q2,Q3,max"
   ]
  },
  {
   "cell_type": "code",
   "execution_count": 24,
   "id": "61b68b46-bdcb-4cdc-99d3-d955716ba79e",
   "metadata": {},
   "outputs": [
    {
     "data": {
      "text/plain": [
       "array([  1.,   3.,   5.,  25., 100.])"
      ]
     },
     "execution_count": 24,
     "metadata": {},
     "output_type": "execute_result"
    }
   ],
   "source": [
    "np.quantile(list_marks,[0,0.25,0.50,0.75,1.0])"
   ]
  },
  {
   "cell_type": "code",
   "execution_count": 25,
   "id": "85bce064-de7f-4caf-b37d-0f3ae596815e",
   "metadata": {},
   "outputs": [],
   "source": [
    "IQR=Q3-Q1 #Internal Quantile range"
   ]
  },
  {
   "cell_type": "code",
   "execution_count": 26,
   "id": "fb2deb14-b203-40d2-8a66-ae0985a4efda",
   "metadata": {},
   "outputs": [
    {
     "data": {
      "text/plain": [
       "array([22.])"
      ]
     },
     "execution_count": 26,
     "metadata": {},
     "output_type": "execute_result"
    }
   ],
   "source": [
    "IQR"
   ]
  },
  {
   "cell_type": "code",
   "execution_count": 28,
   "id": "ee3445ca-466d-405a-8777-3c4ab5af2685",
   "metadata": {},
   "outputs": [],
   "source": [
    "lower_fence= Q1- 1.5*IQR\n",
    "higher_fence=Q3+1.5*IQR"
   ]
  },
  {
   "cell_type": "code",
   "execution_count": 31,
   "id": "d0ead4e7-24b5-411e-9eba-6537a25766ec",
   "metadata": {},
   "outputs": [
    {
     "data": {
      "text/plain": [
       "array([-30.])"
      ]
     },
     "execution_count": 31,
     "metadata": {},
     "output_type": "execute_result"
    }
   ],
   "source": [
    "lower_fence"
   ]
  },
  {
   "cell_type": "code",
   "execution_count": 32,
   "id": "9c6d7989-4525-44f1-b0f0-161829f9898d",
   "metadata": {},
   "outputs": [
    {
     "data": {
      "text/plain": [
       "array([58.])"
      ]
     },
     "execution_count": 32,
     "metadata": {},
     "output_type": "execute_result"
    }
   ],
   "source": [
    "higher_fence"
   ]
  },
  {
   "cell_type": "code",
   "execution_count": 33,
   "id": "0d8510cc-6ea3-4e14-8440-f726eb957400",
   "metadata": {},
   "outputs": [],
   "source": [
    "# If greater then higher fence then it is a outlier and if it is lower than also it is a outlietr"
   ]
  },
  {
   "cell_type": "code",
   "execution_count": 40,
   "id": "ce20b4ac-a8e0-4cb2-898a-39707cc4a1f0",
   "metadata": {},
   "outputs": [],
   "source": [
    "outliers=[]\n",
    "proper_elements=[]\n",
    "for i in list_marks:\n",
    "    if i>higher_fence or i<lower_fence:\n",
    "        outliers.append(i)\n",
    "    else:\n",
    "        proper_elements.append(i)"
   ]
  },
  {
   "cell_type": "code",
   "execution_count": 39,
   "id": "577cb197-8578-4aa4-8007-edd06daa3a47",
   "metadata": {},
   "outputs": [
    {
     "data": {
      "text/plain": [
       "[89, 100, 93, 94]"
      ]
     },
     "execution_count": 39,
     "metadata": {},
     "output_type": "execute_result"
    }
   ],
   "source": [
    "outliers"
   ]
  },
  {
   "cell_type": "code",
   "execution_count": 41,
   "id": "9690baa5-8c7e-4c59-9486-031058dbe15d",
   "metadata": {},
   "outputs": [
    {
     "data": {
      "text/plain": [
       "[1, 2, 3, 4, 5, 1, 2, 3, 4, 5, 6, 7, 5, 4.5, 43]"
      ]
     },
     "execution_count": 41,
     "metadata": {},
     "output_type": "execute_result"
    }
   ],
   "source": [
    "proper_elements"
   ]
  },
  {
   "cell_type": "code",
   "execution_count": 42,
   "id": "b9534fe0-ffed-4c41-940e-95f80dda7fb0",
   "metadata": {},
   "outputs": [],
   "source": [
    "import seaborn as sns"
   ]
  },
  {
   "cell_type": "code",
   "execution_count": 43,
   "id": "d587f570-0693-40fe-a975-62bbaea82c01",
   "metadata": {},
   "outputs": [
    {
     "data": {
      "text/plain": [
       "<AxesSubplot: >"
      ]
     },
     "execution_count": 43,
     "metadata": {},
     "output_type": "execute_result"
    },
    {
     "data": {
      "image/png": "[encoded data removed]",
      "text/plain": [
       "<Figure size 640x480 with 1 Axes>"
      ]
     },
     "metadata": {},
     "output_type": "display_data"
    }
   ],
   "source": [
    "sns.boxplot(list_marks)"
   ]
  },
  {
   "cell_type": "code",
   "execution_count": null,
   "id": "3961e1de-5bcb-4598-b758-749fe5d59e55",
   "metadata": {},
   "outputs": [],
   "source": []
  }
 ],
 "metadata": {
  "kernelspec": {
   "display_name": "Python 3 (ipykernel)",
   "language": "python",
   "name": "python3"
  },
  "language_info": {
   "codemirror_mode": {
    "name": "ipython",
    "version": 3
   },
   "file_extension": ".py",
   "mimetype": "text/x-python",
   "name": "python",
   "nbconvert_exporter": "python",
   "pygments_lexer": "ipython3",
   "version": "3.10.8"
  }
 },
 "nbformat": 4,
 "nbformat_minor": 5
}
